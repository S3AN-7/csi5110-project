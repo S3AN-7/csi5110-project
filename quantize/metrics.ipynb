{
 "cells": [
  {
   "cell_type": "code",
   "execution_count": 1,
   "id": "bab032bc",
   "metadata": {},
   "outputs": [],
   "source": [
    "from pynq_dpu import DpuOverlay\n",
    "import numpy as np\n",
    "import cv2\n",
    "from IPython.display import Image\n",
    "import numpy as np\n",
    "import pandas as pd\n",
    "from sklearn.preprocessing import LabelEncoder\n",
    "import matplotlib.pyplot as plt\n",
    "import os"
   ]
  },
  {
   "cell_type": "code",
   "execution_count": 2,
   "id": "f7b48a6e",
   "metadata": {},
   "outputs": [
    {
     "data": {
      "application/javascript": "\ntry {\nrequire(['notebook/js/codecell'], function(codecell) {\n  codecell.CodeCell.options_default.highlight_modes[\n      'magic_text/x-csrc'] = {'reg':[/^%%microblaze/]};\n  Jupyter.notebook.events.one('kernel_ready.Kernel', function(){\n      Jupyter.notebook.get_cells().map(function(cell){\n          if (cell.cell_type == 'code'){ cell.auto_highlight(); } }) ;\n  });\n});\n} catch (e) {};\n"
     },
     "metadata": {},
     "output_type": "display_data"
    },
    {
     "data": {
      "application/javascript": "\ntry {\nrequire(['notebook/js/codecell'], function(codecell) {\n  codecell.CodeCell.options_default.highlight_modes[\n      'magic_text/x-csrc'] = {'reg':[/^%%pybind11/]};\n  Jupyter.notebook.events.one('kernel_ready.Kernel', function(){\n      Jupyter.notebook.get_cells().map(function(cell){\n          if (cell.cell_type == 'code'){ cell.auto_highlight(); } }) ;\n  });\n});\n} catch (e) {};\n"
     },
     "metadata": {},
     "output_type": "display_data"
    }
   ],
   "source": [
    "overlay = DpuOverlay(\"dpu.bit\")\n",
    "overlay.load_model(\"adam_100_da_best_quantized.xmodel\")"
   ]
  },
  {
   "cell_type": "code",
   "execution_count": 3,
   "id": "654b5644",
   "metadata": {},
   "outputs": [],
   "source": [
    "# Load label mapping\n",
    "df = pd.read_csv('cards.csv')\n",
    "label_encoder = LabelEncoder()\n",
    "df[\"encoded_labels\"] = label_encoder.fit_transform(df[\"labels\"])\n",
    "label_mapping = dict(zip(label_encoder.classes_, range(len(label_encoder.classes_))))\n",
    "class_names = list(label_mapping.keys())"
   ]
  },
  {
   "cell_type": "code",
   "execution_count": 4,
   "id": "887f5a0e",
   "metadata": {},
   "outputs": [],
   "source": [
    "# Path to images\n",
    "image_dir = \"./test_images\"  # directory with 10 identical images\n",
    "image_paths = sorted([os.path.join(image_dir, f) for f in os.listdir(image_dir) if f.endswith(\".jpg\")])"
   ]
  },
  {
   "cell_type": "code",
   "execution_count": 5,
   "id": "cc693a11",
   "metadata": {},
   "outputs": [],
   "source": [
    "# DPU runner and tensor setup\n",
    "dpu = overlay.runner\n",
    "input_tensor = dpu.get_input_tensors()\n",
    "output_tensor = dpu.get_output_tensors()\n",
    "fix_point = dpu.get_input_tensors()[0].get_attr(\"fix_point\")\n",
    "scale = 2 ** fix_point\n",
    "inputDim = tuple(dpu.get_input_tensors()[0].dims)\n",
    "inputData = [np.empty(inputDim, dtype=np.int8)]\n",
    "\n",
    "outputDim = tuple(dpu.get_output_tensors()[0].dims)\n",
    "outputData = [np.empty(outputDim, dtype=np.int8)]\n"
   ]
  },
  {
   "cell_type": "code",
   "execution_count": 6,
   "id": "a554261c",
   "metadata": {},
   "outputs": [
    {
     "name": "stdout",
     "output_type": "stream",
     "text": [
      "[0] True label: four of hearts | Predicted: four of hearts\n",
      "[1] True label: jack of clubs | Predicted: jack of clubs\n",
      "[2] True label: king of diamonds | Predicted: king of diamonds\n",
      "[3] True label: king of spades | Predicted: king of spades\n",
      "[4] True label: nine of diamonds | Predicted: eight of hearts\n",
      "[5] True label: nine of spades | Predicted: nine of spades\n",
      "[6] True label: six of diamonds | Predicted: six of diamonds\n",
      "[7] True label: six of hearts | Predicted: six of hearts\n",
      "[8] True label: six of spades | Predicted: six of spades\n",
      "[9] True label: ten of diamonds | Predicted: eight of diamonds\n",
      "Accuracy: 80.00% (8/10)\n",
      "CPU times: user 50 ms, sys: 3.78 ms, total: 53.7 ms\n",
      "Wall time: 63.6 ms\n"
     ]
    }
   ],
   "source": [
    "%%time\n",
    "correct_predictions = 0\n",
    "total_predictions = 0\n",
    "\n",
    "for i, path in enumerate(image_paths):\n",
    "    # Get the true label (from the directory structure or CSV file)\n",
    "    split_path = path.split('/')\n",
    "    split_path[-1] = split_path[-1].replace('.jpg', '')\n",
    "    true_label = label_mapping.get(split_path[-1], None)\n",
    "\n",
    "    if true_label is None:\n",
    "        print(f\"Warning: Label for image {path} not found!\")\n",
    "        continue\n",
    "    \n",
    "    image = cv2.imread(path)\n",
    "    image = cv2.cvtColor(image, cv2.COLOR_BGR2RGB)\n",
    "    image = cv2.resize(image, (128, 128)) / 255.0\n",
    "    image = (image * scale).round().astype(np.int8)\n",
    "    image = image.astype(np.int8)\n",
    "    \n",
    "    inputData[0][0] = image\n",
    "    \n",
    "    job_id = dpu.execute_async(inputData, outputData)\n",
    "    dpu.wait(job_id)\n",
    "\n",
    "    # Get prediction\n",
    "    class_idx = outputData[0][0].argmax()\n",
    "    predicted_label = class_names[class_idx]\n",
    "\n",
    "    print(f\"[{i}] True label: {split_path[-1]} | Predicted: {predicted_label}\")\n",
    "\n",
    "    # Accuracy calculation\n",
    "    if true_label == class_idx:\n",
    "        correct_predictions += 1\n",
    "\n",
    "    total_predictions += 1\n",
    "\n",
    "accuracy = (correct_predictions / total_predictions) * 100 if total_predictions > 0 else 0\n",
    "print(f\"Accuracy: {accuracy:.2f}% ({correct_predictions}/{total_predictions})\")"
   ]
  }
 ],
 "metadata": {
  "kernelspec": {
   "display_name": "Python 3 (ipykernel)",
   "language": "python",
   "name": "python3"
  },
  "language_info": {
   "codemirror_mode": {
    "name": "ipython",
    "version": 3
   },
   "file_extension": ".py",
   "mimetype": "text/x-python",
   "name": "python",
   "nbconvert_exporter": "python",
   "pygments_lexer": "ipython3",
   "version": "3.10.12"
  }
 },
 "nbformat": 4,
 "nbformat_minor": 5
}
